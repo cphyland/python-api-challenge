{
 "cells": [
  {
   "cell_type": "markdown",
   "metadata": {},
   "source": [
    "# WeatherPy\n",
    "----\n",
    "\n",
    "#### Note\n",
    "* Instructions have been included for each segment. You do not have to follow them exactly, but they are included to help you think through the steps."
   ]
  },
  {
   "cell_type": "markdown",
   "metadata": {},
   "source": [
    "Observations:\n",
    "Observation 1:\n",
    "The highest temeratures occur at 0 latitude.  As you move away from 0 latitide in either direction the temp decreases.\n",
    "\n",
    "Obervation 2:\n",
    "Wind speed and cloudiness isn't infulenced by location.  This is likely due to weather patterns rather than proximity to the equator.\n",
    "\n",
    "Observation 3:\n",
    "The southern hemisphere has mider tempratures than similar locations in the northern hemisphere.  That could be caused by the time of year, as the northern hemisphere is moving into the summer months and the southern hemispher is moving into winter months.   "
   ]
  },
  {
   "cell_type": "code",
   "execution_count": 53,
   "metadata": {},
   "outputs": [
    {
     "name": "stdout",
     "output_type": "stream",
     "text": [
      "Requirement already satisfied: citipy in c:\\users\\court\\anaconda3\\lib\\site-packages (0.0.5)\n",
      "Requirement already satisfied: kdtree>=0.12 in c:\\users\\court\\anaconda3\\lib\\site-packages (from citipy) (0.16)\n"
     ]
    }
   ],
   "source": [
    "!pip install citipy"
   ]
  },
  {
   "cell_type": "code",
   "execution_count": 54,
   "metadata": {
    "scrolled": true
   },
   "outputs": [],
   "source": [
    "# Dependencies and Setup\n",
    "import matplotlib.pyplot as plt\n",
    "import pandas as pd\n",
    "import numpy as np\n",
    "import requests\n",
    "import time\n",
    "from scipy.stats import linregress\n",
    "\n",
    "\n",
    "# Import API key\n",
    "from api_keys import weather_api_key\n",
    "\n",
    "# Incorporated citipy to determine city based on latitude and longitude\n",
    "from citipy import citipy\n",
    "\n",
    "# Output File (CSV)\n",
    "output_data_file = \"output_data/cities.csv\"\n",
    "\n",
    "# Range of latitudes and longitudes\n",
    "lat_range = (-90, 90)\n",
    "lng_range = (-180, 180)"
   ]
  },
  {
   "cell_type": "markdown",
   "metadata": {},
   "source": [
    "## Generate Cities List"
   ]
  },
  {
   "cell_type": "code",
   "execution_count": 55,
   "metadata": {},
   "outputs": [
    {
     "data": {
      "text/plain": [
       "603"
      ]
     },
     "execution_count": 55,
     "metadata": {},
     "output_type": "execute_result"
    }
   ],
   "source": [
    "# List for holding lat_lngs and cities\n",
    "lat_lngs = []\n",
    "cities = []\n",
    "\n",
    "# Create a set of random lat and lng combinations\n",
    "lats = np.random.uniform(low=-90.000, high=90.000, size=1500)\n",
    "lngs = np.random.uniform(low=-180.000, high=180.000, size=1500)\n",
    "lat_lngs = zip(lats, lngs)\n",
    "\n",
    "# Identify nearest city for each lat, lng combination\n",
    "for lat_lng in lat_lngs:\n",
    "    city = citipy.nearest_city(lat_lng[0], lat_lng[1]).city_name\n",
    "    \n",
    "    # If the city is unique, then add it to a our cities list\n",
    "    if city not in cities:\n",
    "        cities.append(city)\n",
    "\n",
    "# Print the city count to confirm sufficient count\n",
    "len(cities)"
   ]
  },
  {
   "cell_type": "markdown",
   "metadata": {},
   "source": [
    "### Perform API Calls\n",
    "* Perform a weather check on each city using a series of successive API calls.\n",
    "* Include a print log of each city as it'sbeing processed (with the city number and city name).\n"
   ]
  },
  {
   "cell_type": "code",
   "execution_count": 56,
   "metadata": {
    "scrolled": true
   },
   "outputs": [],
   "source": [
    "#initialize lists\n",
    "city_name_list = []\n",
    "cloudiness_list = []\n",
    "country_list = []\n",
    "date_list = []\n",
    "humidity_list = []\n",
    "lat_list = []\n",
    "lng_list = []\n",
    "max_temp_list = []\n",
    "wind_speed_list = []\n",
    "index_counter = 0\n",
    "set_counter = 1\n"
   ]
  },
  {
   "cell_type": "code",
   "execution_count": 57,
   "metadata": {},
   "outputs": [
    {
     "name": "stdout",
     "output_type": "stream",
     "text": [
      "Beginning Data Retrieval \n",
      "-----------------------------\n",
      "Processing Record 1 of Set 1 : hobyo\n",
      "City not found. Skipping...\n",
      "Processing Record 2 of Set 1 : toora-khem\n",
      "Processing Record 3 of Set 1 : jamestown\n",
      "Processing Record 4 of Set 1 : atuona\n",
      "City not found. Skipping...\n",
      "Processing Record 5 of Set 1 : hermanus\n",
      "Processing Record 6 of Set 1 : kuala terengganu\n",
      "City not found. Skipping...\n",
      "Processing Record 7 of Set 1 : saskylakh\n",
      "Processing Record 8 of Set 1 : geraldton\n",
      "Processing Record 9 of Set 1 : chuy\n",
      "Processing Record 10 of Set 1 : meulaboh\n",
      "Processing Record 11 of Set 1 : punta arenas\n",
      "Processing Record 12 of Set 1 : rikitea\n",
      "Processing Record 13 of Set 1 : awbari\n",
      "Processing Record 14 of Set 1 : freeport\n",
      "Processing Record 15 of Set 1 : cabo san lucas\n",
      "Processing Record 16 of Set 1 : margate\n",
      "Processing Record 17 of Set 1 : cherskiy\n",
      "City not found. Skipping...\n",
      "Processing Record 18 of Set 1 : san rafael\n",
      "Processing Record 19 of Set 1 : busselton\n",
      "Processing Record 20 of Set 1 : norman wells\n",
      "Processing Record 21 of Set 1 : upernavik\n",
      "Processing Record 22 of Set 1 : cidreira\n",
      "Processing Record 23 of Set 1 : kapaa\n",
      "Processing Record 24 of Set 1 : albany\n",
      "Processing Record 25 of Set 1 : new norfolk\n",
      "Processing Record 26 of Set 1 : cockburn town\n",
      "Processing Record 27 of Set 1 : mataura\n",
      "Processing Record 28 of Set 1 : coquimbo\n",
      "City not found. Skipping...\n",
      "Processing Record 29 of Set 1 : banda aceh\n",
      "Processing Record 30 of Set 1 : namibe\n",
      "Processing Record 31 of Set 1 : saint-philippe\n",
      "Processing Record 32 of Set 1 : tessalit\n",
      "Processing Record 33 of Set 1 : ponta do sol\n",
      "Processing Record 34 of Set 1 : tasiilaq\n",
      "Processing Record 35 of Set 1 : ust-nera\n",
      "City not found. Skipping...\n",
      "Processing Record 36 of Set 1 : hithadhoo\n",
      "City not found. Skipping...\n",
      "Processing Record 37 of Set 1 : luangwa\n",
      "Processing Record 38 of Set 1 : souillac\n",
      "Processing Record 39 of Set 1 : batemans bay\n",
      "Processing Record 40 of Set 1 : cape town\n",
      "Processing Record 41 of Set 1 : kincardine\n",
      "Processing Record 42 of Set 1 : barybino\n",
      "Processing Record 43 of Set 1 : leningradskiy\n",
      "Processing Record 44 of Set 1 : viransehir\n",
      "Processing Record 45 of Set 1 : puerto ayora\n",
      "Processing Record 46 of Set 1 : nikolskoye\n",
      "Processing Record 47 of Set 1 : muros\n",
      "Processing Record 48 of Set 1 : honghu\n",
      "Processing Record 49 of Set 1 : ilulissat\n",
      "Processing Record 50 of Set 1 : chokurdakh\n",
      "Processing Record 0 of Set 2 : college\n",
      "Processing Record 1 of Set 2 : ushuaia\n",
      "Processing Record 2 of Set 2 : bengkulu\n",
      "Processing Record 3 of Set 2 : georgetown\n",
      "City not found. Skipping...\n",
      "Processing Record 4 of Set 2 : saldanha\n",
      "Processing Record 5 of Set 2 : vanavara\n",
      "Processing Record 6 of Set 2 : quatre cocos\n",
      "Processing Record 7 of Set 2 : sayyan\n",
      "Processing Record 8 of Set 2 : buraydah\n",
      "City not found. Skipping...\n",
      "Processing Record 9 of Set 2 : faanui\n",
      "Processing Record 10 of Set 2 : greenlaw\n",
      "Processing Record 11 of Set 2 : celestun\n",
      "Processing Record 12 of Set 2 : husavik\n",
      "Processing Record 13 of Set 2 : tuktoyaktuk\n",
      "Processing Record 14 of Set 2 : camacha\n",
      "Processing Record 15 of Set 2 : los llanos de aridane\n",
      "Processing Record 16 of Set 2 : ancud\n",
      "Processing Record 17 of Set 2 : bambous virieux\n",
      "Processing Record 18 of Set 2 : esperance\n",
      "City not found. Skipping...\n",
      "Processing Record 19 of Set 2 : poum\n",
      "Processing Record 20 of Set 2 : tarquinia\n",
      "Processing Record 21 of Set 2 : mount isa\n",
      "Processing Record 22 of Set 2 : barrow\n",
      "Processing Record 23 of Set 2 : lebu\n",
      "Processing Record 24 of Set 2 : dikson\n",
      "Processing Record 25 of Set 2 : kjustendil\n",
      "City not found. Skipping...\n",
      "Processing Record 26 of Set 2 : chabahar\n",
      "City not found. Skipping...\n",
      "Processing Record 27 of Set 2 : howard springs\n",
      "Processing Record 28 of Set 2 : hobart\n",
      "Processing Record 29 of Set 2 : ancona\n",
      "Processing Record 30 of Set 2 : gat\n",
      "Processing Record 31 of Set 2 : isangel\n",
      "Processing Record 32 of Set 2 : thompson\n",
      "Processing Record 33 of Set 2 : hilo\n",
      "Processing Record 34 of Set 2 : cordoba\n",
      "Processing Record 35 of Set 2 : namatanai\n",
      "Processing Record 36 of Set 2 : sibolga\n",
      "Processing Record 37 of Set 2 : avarua\n",
      "Processing Record 38 of Set 2 : bredasdorp\n",
      "Processing Record 39 of Set 2 : karratha\n",
      "Processing Record 40 of Set 2 : aklavik\n",
      "Processing Record 41 of Set 2 : ler\n",
      "Processing Record 42 of Set 2 : bluff\n",
      "Processing Record 43 of Set 2 : juneau\n",
      "Processing Record 44 of Set 2 : beringovskiy\n",
      "Processing Record 45 of Set 2 : suluq\n",
      "Processing Record 46 of Set 2 : saint anthony\n",
      "Processing Record 47 of Set 2 : lompoc\n",
      "Processing Record 48 of Set 2 : kodiak\n",
      "Processing Record 49 of Set 2 : port alfred\n",
      "Processing Record 50 of Set 2 : monrovia\n",
      "Processing Record 0 of Set 3 : sorland\n",
      "Processing Record 1 of Set 3 : acapulco\n",
      "City not found. Skipping...\n",
      "Processing Record 2 of Set 3 : beloha\n",
      "Processing Record 3 of Set 3 : ribeira grande\n",
      "Processing Record 4 of Set 3 : bac lieu\n",
      "Processing Record 5 of Set 3 : pagsangahan\n",
      "City not found. Skipping...\n",
      "Processing Record 6 of Set 3 : ahipara\n",
      "Processing Record 7 of Set 3 : bereda\n",
      "Processing Record 8 of Set 3 : lorengau\n",
      "Processing Record 9 of Set 3 : matagami\n",
      "Processing Record 10 of Set 3 : khatanga\n",
      "Processing Record 11 of Set 3 : qujing\n",
      "City not found. Skipping...\n",
      "Processing Record 12 of Set 3 : butaritari\n",
      "City not found. Skipping...\n",
      "City not found. Skipping...\n",
      "Processing Record 13 of Set 3 : carnarvon\n",
      "Processing Record 14 of Set 3 : arraial do cabo\n",
      "Processing Record 15 of Set 3 : grand gaube\n",
      "Processing Record 16 of Set 3 : port hardy\n",
      "Processing Record 17 of Set 3 : mpika\n",
      "Processing Record 18 of Set 3 : saint-pierre\n",
      "Processing Record 19 of Set 3 : yellowknife\n",
      "Processing Record 20 of Set 3 : nanortalik\n",
      "Processing Record 21 of Set 3 : katsuura\n",
      "Processing Record 22 of Set 3 : olinda\n",
      "Processing Record 23 of Set 3 : aykino\n",
      "Processing Record 24 of Set 3 : port blair\n",
      "City not found. Skipping...\n",
      "City not found. Skipping...\n",
      "Processing Record 25 of Set 3 : baracoa\n",
      "Processing Record 26 of Set 3 : kaitangata\n",
      "Processing Record 27 of Set 3 : sakakah\n",
      "Processing Record 28 of Set 3 : labuhan\n",
      "Processing Record 29 of Set 3 : karasjok\n",
      "Processing Record 30 of Set 3 : alekseyevsk\n",
      "Processing Record 31 of Set 3 : dingle\n",
      "Processing Record 32 of Set 3 : noumea\n",
      "Processing Record 33 of Set 3 : raga\n",
      "Processing Record 34 of Set 3 : rawson\n",
      "Processing Record 35 of Set 3 : touros\n",
      "Processing Record 36 of Set 3 : westport\n",
      "Processing Record 37 of Set 3 : san vicente\n",
      "Processing Record 38 of Set 3 : vila franca do campo\n",
      "Processing Record 39 of Set 3 : hambantota\n",
      "Processing Record 40 of Set 3 : qandala\n",
      "Processing Record 41 of Set 3 : nouadhibou\n",
      "Processing Record 42 of Set 3 : iqaluit\n",
      "City not found. Skipping...\n",
      "Processing Record 43 of Set 3 : hami\n",
      "Processing Record 44 of Set 3 : nome\n",
      "Processing Record 45 of Set 3 : imamoglu\n",
      "Processing Record 46 of Set 3 : mount pleasant\n",
      "Processing Record 47 of Set 3 : san javier\n",
      "Processing Record 48 of Set 3 : channarayapatna\n",
      "Processing Record 49 of Set 3 : torbay\n",
      "Processing Record 50 of Set 3 : melfort\n",
      "Processing Record 0 of Set 4 : castro\n",
      "Processing Record 1 of Set 4 : sharjah\n",
      "Processing Record 2 of Set 4 : sitges\n",
      "Processing Record 3 of Set 4 : atar\n",
      "Processing Record 4 of Set 4 : adrar\n",
      "Processing Record 5 of Set 4 : san quintin\n",
      "Processing Record 6 of Set 4 : hirara\n",
      "Processing Record 7 of Set 4 : marfino\n",
      "Processing Record 8 of Set 4 : hatillo\n",
      "Processing Record 9 of Set 4 : olafsvik\n",
      "Processing Record 10 of Set 4 : mitzic\n",
      "Processing Record 11 of Set 4 : abbeville\n",
      "Processing Record 12 of Set 4 : bethel\n",
      "Processing Record 13 of Set 4 : mahajanga\n",
      "Processing Record 14 of Set 4 : havre-saint-pierre\n",
      "Processing Record 15 of Set 4 : wanning\n",
      "Processing Record 16 of Set 4 : san andres\n",
      "Processing Record 17 of Set 4 : lavrentiya\n",
      "Processing Record 18 of Set 4 : ostrovnoy\n",
      "Processing Record 19 of Set 4 : te anau\n",
      "Processing Record 20 of Set 4 : riyadh\n",
      "Processing Record 21 of Set 4 : kidal\n",
      "Processing Record 22 of Set 4 : red bluff\n",
      "City not found. Skipping...\n",
      "Processing Record 23 of Set 4 : sorong\n",
      "Processing Record 24 of Set 4 : oranjemund\n",
      "Processing Record 25 of Set 4 : show low\n",
      "City not found. Skipping...\n",
      "Processing Record 26 of Set 4 : oussouye\n",
      "Processing Record 27 of Set 4 : provideniya\n",
      "Processing Record 28 of Set 4 : dubrovnik\n",
      "Processing Record 29 of Set 4 : rio gallegos\n",
      "City not found. Skipping...\n",
      "Processing Record 30 of Set 4 : alta floresta\n",
      "Processing Record 31 of Set 4 : marawi\n",
      "Processing Record 32 of Set 4 : yining\n",
      "Processing Record 33 of Set 4 : saint-joseph\n",
      "Processing Record 34 of Set 4 : naze\n",
      "Processing Record 35 of Set 4 : mahebourg\n",
      "Processing Record 36 of Set 4 : alyangula\n",
      "City not found. Skipping...\n",
      "Processing Record 37 of Set 4 : port elizabeth\n",
      "City not found. Skipping...\n",
      "Processing Record 38 of Set 4 : saint-francois\n",
      "Processing Record 39 of Set 4 : tabou\n",
      "Processing Record 40 of Set 4 : massaguet\n",
      "Processing Record 41 of Set 4 : wamba\n",
      "Processing Record 42 of Set 4 : seabra\n",
      "Processing Record 43 of Set 4 : raudeberg\n",
      "Processing Record 44 of Set 4 : clyde river\n",
      "Processing Record 45 of Set 4 : mengcheng\n",
      "Processing Record 46 of Set 4 : kahului\n",
      "Processing Record 47 of Set 4 : kantang\n",
      "Processing Record 48 of Set 4 : vaini\n",
      "Processing Record 49 of Set 4 : ayan\n",
      "Processing Record 50 of Set 4 : qaanaaq\n",
      "Processing Record 0 of Set 5 : half moon bay\n",
      "Processing Record 1 of Set 5 : paranhos\n",
      "Processing Record 2 of Set 5 : kaniv\n",
      "Processing Record 3 of Set 5 : east london\n",
      "Processing Record 4 of Set 5 : nyuksenitsa\n",
      "Processing Record 5 of Set 5 : praia\n",
      "Processing Record 6 of Set 5 : zlobin\n",
      "Processing Record 7 of Set 5 : sao gabriel da cachoeira\n",
      "Processing Record 8 of Set 5 : sturgeon bay\n",
      "Processing Record 9 of Set 5 : ambilobe\n",
      "City not found. Skipping...\n",
      "Processing Record 10 of Set 5 : santa maria\n",
      "Processing Record 11 of Set 5 : muscat\n",
      "City not found. Skipping...\n",
      "City not found. Skipping...\n",
      "Processing Record 12 of Set 5 : khandyga\n",
      "Processing Record 13 of Set 5 : zaida\n",
      "Processing Record 14 of Set 5 : panama city\n",
      "City not found. Skipping...\n",
      "City not found. Skipping...\n",
      "Processing Record 15 of Set 5 : kokkola\n",
      "Processing Record 16 of Set 5 : guerrero negro\n",
      "Processing Record 17 of Set 5 : tombouctou\n",
      "Processing Record 18 of Set 5 : pevek\n",
      "Processing Record 19 of Set 5 : saint george\n",
      "Processing Record 20 of Set 5 : codrington\n",
      "Processing Record 21 of Set 5 : hudson\n",
      "Processing Record 22 of Set 5 : sao domingos\n",
      "Processing Record 23 of Set 5 : diego de almagro\n",
      "Processing Record 24 of Set 5 : songea\n",
      "Processing Record 25 of Set 5 : tatvan\n",
      "Processing Record 26 of Set 5 : kichera\n",
      "Processing Record 27 of Set 5 : mehamn\n",
      "Processing Record 28 of Set 5 : faya\n",
      "Processing Record 29 of Set 5 : itoman\n",
      "Processing Record 30 of Set 5 : ust-kuyga\n",
      "Processing Record 31 of Set 5 : awjilah\n",
      "Processing Record 32 of Set 5 : talaya\n",
      "Processing Record 33 of Set 5 : ixtapa\n",
      "Processing Record 34 of Set 5 : sovetskaya gavan\n",
      "Processing Record 35 of Set 5 : sorbhog\n",
      "Processing Record 36 of Set 5 : alghero\n",
      "City not found. Skipping...\n",
      "Processing Record 37 of Set 5 : huarmey\n",
      "Processing Record 38 of Set 5 : kudahuvadhoo\n",
      "Processing Record 39 of Set 5 : tiksi\n",
      "Processing Record 40 of Set 5 : staunton\n",
      "Processing Record 41 of Set 5 : santa cruz\n",
      "Processing Record 42 of Set 5 : avera\n",
      "Processing Record 43 of Set 5 : mar del plata\n",
      "Processing Record 44 of Set 5 : longyearbyen\n",
      "Processing Record 45 of Set 5 : monte patria\n",
      "Processing Record 46 of Set 5 : heishan\n",
      "Processing Record 47 of Set 5 : lasa\n",
      "Processing Record 48 of Set 5 : niamey\n",
      "Processing Record 49 of Set 5 : sao filipe\n",
      "Processing Record 50 of Set 5 : bahia blanca\n",
      "Processing Record 0 of Set 6 : hovd\n",
      "Processing Record 1 of Set 6 : zheleznodorozhnyy\n",
      "Processing Record 2 of Set 6 : luquillo\n",
      "Processing Record 3 of Set 6 : manakara\n",
      "Processing Record 4 of Set 6 : pangnirtung\n",
      "City not found. Skipping...\n",
      "Processing Record 5 of Set 6 : bandar-e lengeh\n",
      "Processing Record 6 of Set 6 : nanhai\n",
      "Processing Record 7 of Set 6 : sola\n",
      "Processing Record 8 of Set 6 : popondetta\n",
      "Processing Record 9 of Set 6 : biltine\n",
      "Processing Record 10 of Set 6 : port-gentil\n",
      "Processing Record 11 of Set 6 : mufumbwe\n",
      "Processing Record 12 of Set 6 : puntarenas\n",
      "Processing Record 13 of Set 6 : flin flon\n",
      "Processing Record 14 of Set 6 : aktas\n",
      "Processing Record 15 of Set 6 : breves\n",
      "Processing Record 16 of Set 6 : bajitpur\n",
      "Processing Record 17 of Set 6 : araouane\n",
      "Processing Record 18 of Set 6 : saint-augustin\n",
      "Processing Record 19 of Set 6 : padang\n",
      "Processing Record 20 of Set 6 : mariel\n",
      "Processing Record 21 of Set 6 : lazaro cardenas\n",
      "Processing Record 22 of Set 6 : pangai\n",
      "Processing Record 23 of Set 6 : keetmanshoop\n",
      "City not found. Skipping...\n",
      "Processing Record 24 of Set 6 : yenagoa\n",
      "Processing Record 25 of Set 6 : ashland\n",
      "Processing Record 26 of Set 6 : sechura\n",
      "Processing Record 27 of Set 6 : airai\n",
      "Processing Record 28 of Set 6 : naryan-mar\n",
      "Processing Record 29 of Set 6 : nyagan\n",
      "Processing Record 30 of Set 6 : elbistan\n",
      "Processing Record 31 of Set 6 : coahuayana\n",
      "Processing Record 32 of Set 6 : abu dhabi\n",
      "Processing Record 33 of Set 6 : broken hill\n",
      "Processing Record 34 of Set 6 : campbeltown\n",
      "Processing Record 35 of Set 6 : hay river\n",
      "Processing Record 36 of Set 6 : edd\n",
      "Processing Record 37 of Set 6 : north bend\n",
      "Processing Record 38 of Set 6 : coihaique\n",
      "Processing Record 39 of Set 6 : astoria\n",
      "Processing Record 40 of Set 6 : severo-kurilsk\n",
      "Processing Record 41 of Set 6 : zhoucheng\n",
      "Processing Record 42 of Set 6 : baguinge\n",
      "Processing Record 43 of Set 6 : segezha\n",
      "Processing Record 44 of Set 6 : huanta\n",
      "Processing Record 45 of Set 6 : vagur\n",
      "Processing Record 46 of Set 6 : singaraja\n",
      "Processing Record 47 of Set 6 : kavieng\n",
      "Processing Record 48 of Set 6 : vesyegonsk\n",
      "Processing Record 49 of Set 6 : dunedin\n",
      "Processing Record 50 of Set 6 : nizhniy kuranakh\n",
      "Processing Record 0 of Set 7 : porto novo\n",
      "Processing Record 1 of Set 7 : casper\n",
      "Processing Record 2 of Set 7 : mount gambier\n",
      "Processing Record 3 of Set 7 : cairns\n",
      "Processing Record 4 of Set 7 : ulvik\n",
      "City not found. Skipping...\n",
      "Processing Record 5 of Set 7 : mariinskiy posad\n",
      "Processing Record 6 of Set 7 : viedma\n",
      "Processing Record 7 of Set 7 : vostok\n",
      "Processing Record 8 of Set 7 : payson\n",
      "Processing Record 9 of Set 7 : kitimat\n",
      "Processing Record 10 of Set 7 : comodoro rivadavia\n",
      "Processing Record 11 of Set 7 : qaqortoq\n",
      "Processing Record 12 of Set 7 : bathsheba\n",
      "Processing Record 13 of Set 7 : anakapalle\n",
      "Processing Record 14 of Set 7 : kurumkan\n",
      "Processing Record 15 of Set 7 : port hedland\n",
      "City not found. Skipping...\n",
      "City not found. Skipping...\n",
      "Processing Record 16 of Set 7 : marsa matruh\n",
      "Processing Record 17 of Set 7 : berlevag\n",
      "Processing Record 18 of Set 7 : sao felix do xingu\n",
      "Processing Record 19 of Set 7 : manggar\n",
      "Processing Record 20 of Set 7 : sayhat\n",
      "Processing Record 21 of Set 7 : mikuni\n",
      "Processing Record 22 of Set 7 : wenatchee\n",
      "Processing Record 23 of Set 7 : balsas\n",
      "Processing Record 24 of Set 7 : baghdad\n",
      "City not found. Skipping...\n",
      "Processing Record 25 of Set 7 : udachnyy\n",
      "Processing Record 26 of Set 7 : port macquarie\n",
      "Processing Record 27 of Set 7 : cabedelo\n",
      "Processing Record 28 of Set 7 : pinheiro machado\n",
      "Processing Record 29 of Set 7 : nkhata bay\n",
      "Processing Record 30 of Set 7 : whitehorse\n",
      "City not found. Skipping...\n",
      "Processing Record 31 of Set 7 : lagunas\n",
      "Processing Record 32 of Set 7 : maunabo\n",
      "City not found. Skipping...\n",
      "Processing Record 33 of Set 7 : placido de castro\n",
      "Processing Record 34 of Set 7 : chute-aux-outardes\n",
      "Processing Record 35 of Set 7 : sitka\n",
      "Processing Record 36 of Set 7 : broome\n",
      "Processing Record 37 of Set 7 : koumac\n",
      "Processing Record 38 of Set 7 : ust-maya\n",
      "Processing Record 39 of Set 7 : manama\n",
      "Processing Record 40 of Set 7 : akyab\n",
      "Processing Record 41 of Set 7 : macklin\n",
      "Processing Record 42 of Set 7 : honiara\n",
      "Processing Record 43 of Set 7 : makokou\n",
      "Processing Record 44 of Set 7 : mecca\n",
      "Processing Record 45 of Set 7 : poya\n",
      "Processing Record 46 of Set 7 : neiafu\n",
      "Processing Record 47 of Set 7 : scarborough\n",
      "Processing Record 48 of Set 7 : dunmore town\n",
      "Processing Record 49 of Set 7 : atambua\n",
      "Processing Record 50 of Set 7 : muri\n",
      "Processing Record 0 of Set 8 : hasaki\n",
      "Processing Record 1 of Set 8 : beroroha\n",
      "Processing Record 2 of Set 8 : asau\n",
      "Processing Record 3 of Set 8 : vardo\n",
      "Processing Record 4 of Set 8 : straumen\n",
      "Processing Record 5 of Set 8 : mayumba\n",
      "Processing Record 6 of Set 8 : pukhrayan\n",
      "Processing Record 7 of Set 8 : arman\n",
      "Processing Record 8 of Set 8 : chak azam sahu\n",
      "Processing Record 9 of Set 8 : pirgos\n",
      "Processing Record 10 of Set 8 : san fernando\n",
      "Processing Record 11 of Set 8 : kushiro\n",
      "Processing Record 12 of Set 8 : menongue\n",
      "Processing Record 13 of Set 8 : gurun\n",
      "Processing Record 14 of Set 8 : mpongwe\n",
      "Processing Record 15 of Set 8 : yar-sale\n",
      "Processing Record 16 of Set 8 : biak\n",
      "Processing Record 17 of Set 8 : rangapara\n",
      "Processing Record 18 of Set 8 : boende\n",
      "Processing Record 19 of Set 8 : sinnamary\n",
      "Processing Record 20 of Set 8 : ponta delgada\n",
      "City not found. Skipping...\n",
      "Processing Record 21 of Set 8 : kruisfontein\n",
      "Processing Record 22 of Set 8 : neutraubling\n",
      "Processing Record 23 of Set 8 : karlskrona\n",
      "Processing Record 24 of Set 8 : dicabisagan\n",
      "Processing Record 25 of Set 8 : ajdabiya\n",
      "Processing Record 26 of Set 8 : puerto escondido\n",
      "Processing Record 27 of Set 8 : gumdag\n",
      "Processing Record 28 of Set 8 : hammerfest\n",
      "Processing Record 29 of Set 8 : moose factory\n",
      "Processing Record 30 of Set 8 : bambanglipuro\n",
      "Processing Record 31 of Set 8 : tubmanburg\n",
      "Processing Record 32 of Set 8 : hamilton\n",
      "Processing Record 33 of Set 8 : pushkino\n",
      "Processing Record 34 of Set 8 : sao joao da barra\n",
      "Processing Record 35 of Set 8 : fort nelson\n",
      "Processing Record 36 of Set 8 : payo\n",
      "Processing Record 37 of Set 8 : dogondoutchi\n",
      "Processing Record 38 of Set 8 : rakitnoye\n",
      "Processing Record 39 of Set 8 : nuuk\n",
      "Processing Record 40 of Set 8 : chapais\n",
      "Processing Record 41 of Set 8 : alofi\n",
      "Processing Record 42 of Set 8 : morondava\n",
      "Processing Record 43 of Set 8 : jiazi\n",
      "Processing Record 44 of Set 8 : jaisinghnagar\n",
      "Processing Record 45 of Set 8 : mandalgovi\n",
      "Processing Record 46 of Set 8 : severo-yeniseyskiy\n",
      "Processing Record 47 of Set 8 : belaya gora\n",
      "Processing Record 48 of Set 8 : leh\n",
      "Processing Record 49 of Set 8 : murovani kurylivtsi\n",
      "Processing Record 50 of Set 8 : the valley\n",
      "Processing Record 0 of Set 9 : narsaq\n",
      "Processing Record 1 of Set 9 : kavaratti\n",
      "Processing Record 2 of Set 9 : san patricio\n",
      "City not found. Skipping...\n",
      "City not found. Skipping...\n",
      "Processing Record 3 of Set 9 : garoua boulai\n",
      "Processing Record 4 of Set 9 : baruun-urt\n",
      "Processing Record 5 of Set 9 : kerrobert\n",
      "Processing Record 6 of Set 9 : pontianak\n",
      "City not found. Skipping...\n",
      "Processing Record 7 of Set 9 : pisco\n",
      "Processing Record 8 of Set 9 : la primavera\n",
      "Processing Record 9 of Set 9 : chicama\n",
      "Processing Record 10 of Set 9 : concepcion de buenos aires\n",
      "Processing Record 11 of Set 9 : kirya\n",
      "Processing Record 12 of Set 9 : majene\n",
      "City not found. Skipping...\n",
      "Processing Record 13 of Set 9 : san giorgio ionico\n",
      "Processing Record 14 of Set 9 : albanel\n",
      "Processing Record 15 of Set 9 : lagos\n",
      "City not found. Skipping...\n",
      "Processing Record 16 of Set 9 : goderich\n",
      "Processing Record 17 of Set 9 : moscow\n",
      "Processing Record 18 of Set 9 : haines junction\n",
      "Processing Record 19 of Set 9 : peniche\n",
      "Processing Record 20 of Set 9 : colwyn bay\n",
      "Processing Record 21 of Set 9 : chivay\n",
      "Processing Record 22 of Set 9 : teeli\n",
      "Processing Record 23 of Set 9 : miram shah\n",
      "Processing Record 24 of Set 9 : pacific grove\n",
      "Processing Record 25 of Set 9 : dhidhdhoo\n",
      "Processing Record 26 of Set 9 : todos santos\n",
      "Processing Record 27 of Set 9 : bilma\n",
      "Processing Record 28 of Set 9 : magole\n",
      "Processing Record 29 of Set 9 : cotonou\n",
      "Processing Record 30 of Set 9 : george\n",
      "Processing Record 31 of Set 9 : cap-aux-meules\n",
      "Processing Record 32 of Set 9 : basco\n",
      "Processing Record 33 of Set 9 : micheweni\n",
      "Processing Record 34 of Set 9 : shingu\n",
      "Processing Record 35 of Set 9 : yangambi\n",
      "Processing Record 36 of Set 9 : yulara\n",
      "Processing Record 37 of Set 9 : lagoa\n",
      "Processing Record 38 of Set 9 : yeppoon\n",
      "Processing Record 39 of Set 9 : kendari\n",
      "City not found. Skipping...\n",
      "Processing Record 40 of Set 9 : ures\n",
      "Processing Record 41 of Set 9 : sri aman\n",
      "Processing Record 42 of Set 9 : sabang\n",
      "Processing Record 43 of Set 9 : evensk\n",
      "Processing Record 44 of Set 9 : arai\n",
      "City not found. Skipping...\n",
      "Processing Record 45 of Set 9 : prince rupert\n",
      "Processing Record 46 of Set 9 : harboore\n",
      "City not found. Skipping...\n",
      "Processing Record 47 of Set 9 : crotone\n",
      "City not found. Skipping...\n",
      "Processing Record 48 of Set 9 : lerwick\n",
      "Processing Record 49 of Set 9 : karaton\n",
      "Processing Record 50 of Set 9 : kalanguy\n",
      "Processing Record 0 of Set 10 : ormara\n",
      "Processing Record 1 of Set 10 : inhambane\n",
      "Processing Record 2 of Set 10 : nunkini\n",
      "Processing Record 3 of Set 10 : santa isabel\n",
      "Processing Record 4 of Set 10 : valday\n",
      "Processing Record 5 of Set 10 : springbok\n",
      "Processing Record 6 of Set 10 : wajima\n",
      "Processing Record 7 of Set 10 : yuli\n",
      "Processing Record 8 of Set 10 : champerico\n",
      "Processing Record 9 of Set 10 : victoria\n",
      "City not found. Skipping...\n",
      "Processing Record 10 of Set 10 : marsaxlokk\n",
      "Processing Record 11 of Set 10 : puerto madryn\n",
      "Processing Record 12 of Set 10 : komsomolskiy\n",
      "Processing Record 13 of Set 10 : bay roberts\n",
      "Processing Record 14 of Set 10 : tara\n",
      "Processing Record 15 of Set 10 : catumbela\n",
      "Processing Record 16 of Set 10 : kenai\n",
      "Processing Record 17 of Set 10 : creemore\n",
      "Processing Record 18 of Set 10 : vestmannaeyjar\n",
      "Processing Record 19 of Set 10 : itaituba\n",
      "Processing Record 20 of Set 10 : fougamou\n",
      "Processing Record 21 of Set 10 : yichun\n",
      "Processing Record 22 of Set 10 : jumla\n",
      "Processing Record 23 of Set 10 : fairbanks\n",
      "Processing Record 24 of Set 10 : sangar\n",
      "Processing Record 25 of Set 10 : nogliki\n",
      "Processing Record 26 of Set 10 : mezhdurechenskiy\n",
      "Processing Record 27 of Set 10 : carlagan\n",
      "Processing Record 28 of Set 10 : okha\n",
      "City not found. Skipping...\n",
      "City not found. Skipping...\n",
      "Processing Record 29 of Set 10 : leshukonskoye\n",
      "Processing Record 30 of Set 10 : richards bay\n",
      "Processing Record 31 of Set 10 : vidim\n",
      "Processing Record 32 of Set 10 : bure\n",
      "Processing Record 33 of Set 10 : tanout\n",
      "Processing Record 34 of Set 10 : cruzeiro do sul\n",
      "Processing Record 35 of Set 10 : port hawkesbury\n",
      "City not found. Skipping...\n",
      "Processing Record 36 of Set 10 : shetpe\n",
      "Processing Record 37 of Set 10 : najran\n",
      "Processing Record 38 of Set 10 : ekhabi\n",
      "Processing Record 39 of Set 10 : podosinovets\n",
      "Processing Record 40 of Set 10 : bardiyah\n",
      "Processing Record 41 of Set 10 : cabinda\n",
      "Processing Record 42 of Set 10 : omsukchan\n",
      "Processing Record 43 of Set 10 : aksarka\n",
      "Processing Record 44 of Set 10 : kloulklubed\n",
      "Processing Record 45 of Set 10 : san cristobal\n",
      "Processing Record 46 of Set 10 : seoul\n",
      "City not found. Skipping...\n",
      "Processing Record 47 of Set 10 : tuatapere\n",
      "Processing Record 48 of Set 10 : kismayo\n",
      "Processing Record 49 of Set 10 : svetlogorsk\n",
      "Processing Record 50 of Set 10 : sarangani\n",
      "Processing Record 0 of Set 11 : shellbrook\n",
      "Processing Record 1 of Set 11 : colac\n",
      "Processing Record 2 of Set 11 : kericho\n",
      "Processing Record 3 of Set 11 : skibbereen\n",
      "Processing Record 4 of Set 11 : krasnoselkup\n",
      "Processing Record 5 of Set 11 : la peca\n",
      "Processing Record 6 of Set 11 : valdivia\n",
      "Processing Record 7 of Set 11 : tulun\n",
      "Processing Record 8 of Set 11 : lamu\n",
      "City not found. Skipping...\n",
      "Processing Record 9 of Set 11 : eirunepe\n",
      "Processing Record 10 of Set 11 : matay\n",
      "Processing Record 11 of Set 11 : lucea\n",
      "Processing Record 12 of Set 11 : flinders\n",
      "Processing Record 13 of Set 11 : kwinana\n",
      "Processing Record 14 of Set 11 : wuchi\n",
      "Processing Record 15 of Set 11 : alihe\n",
      "Processing Record 16 of Set 11 : dublin\n",
      "Processing Record 17 of Set 11 : beian\n",
      "Processing Record 18 of Set 11 : constitucion\n",
      "Processing Record 19 of Set 11 : zyryanka\n",
      "Processing Record 20 of Set 11 : katangli\n",
      "Processing Record 21 of Set 11 : chernyshevskiy\n",
      "Processing Record 22 of Set 11 : road town\n",
      "Processing Record 23 of Set 11 : silifke\n",
      "Processing Record 24 of Set 11 : tromso\n",
      "Processing Record 25 of Set 11 : talnakh\n",
      "City not found. Skipping...\n",
      "Processing Record 26 of Set 11 : strelka\n",
      "Processing Record 27 of Set 11 : chornukhy\n",
      "Processing Record 28 of Set 11 : vila velha\n",
      "Processing Record 29 of Set 11 : san joaquin\n",
      "Processing Record 30 of Set 11 : salinopolis\n",
      "Processing Record 31 of Set 11 : calvinia\n",
      "Processing Record 32 of Set 11 : fortuna\n",
      "Processing Record 33 of Set 11 : chernitsyno\n",
      "Processing Record 34 of Set 11 : paita\n",
      "Processing Record 35 of Set 11 : rock sound\n",
      "Processing Record 36 of Set 11 : xining\n",
      "Processing Record 37 of Set 11 : klaksvik\n",
      "-----------------------------\n",
      "Data Retrieval Complete\n",
      "-----------------------------\n"
     ]
    }
   ],
   "source": [
    "print(\"Beginning Data Retrieval \")\n",
    "print(\"-----------------------------\")\n",
    "\n",
    "base_url = \"http://api.openweathermap.org/data/2.5/weather?\"\n",
    "units = \"imperial\"\n",
    "query_url = f\"{base_url}appid={weather_api_key}&units={units}&q=\"\n",
    "\n",
    "\n",
    "# For each city name in cities list, do below things...\n",
    "for index, city in enumerate(cities, start = 1):\n",
    "    try:\n",
    "        response = requests.get(query_url + city).json()\n",
    "        city_name_list.append(response[\"name\"])\n",
    "        cloudiness_list.append(response[\"clouds\"][\"all\"])\n",
    "        country_list.append(response[\"sys\"][\"country\"])\n",
    "        date_list.append(response[\"dt\"])\n",
    "        humidity_list.append(response[\"main\"][\"humidity\"])\n",
    "        lat_list.append(response[\"coord\"][\"lat\"])\n",
    "        lng_list.append(response[\"coord\"][\"lon\"])\n",
    "        max_temp_list.append(response['main']['temp_max'])\n",
    "        wind_speed_list.append(response[\"wind\"][\"speed\"])\n",
    "        if index_counter > 49:\n",
    "            index_counter = 0\n",
    "            set_counter = set_counter + 1\n",
    "    \n",
    "        else:\n",
    "            index_counter = index_counter + 1\n",
    "            \n",
    "        print(f\"Processing Record {index_counter} of Set {set_counter} : {city}\") \n",
    "  \n",
    "    except(KeyError, IndexError):\n",
    "        print(\"City not found. Skipping...\")\n",
    "\n",
    "print(\"-----------------------------\")\n",
    "print(\"Data Retrieval Complete\")\n",
    "print(\"-----------------------------\")"
   ]
  },
  {
   "cell_type": "markdown",
   "metadata": {},
   "source": [
    "### Convert Raw Data to DataFrame\n",
    "* Export the city data into a .csv.\n",
    "* Display the DataFrame"
   ]
  },
  {
   "cell_type": "code",
   "execution_count": 114,
   "metadata": {},
   "outputs": [
    {
     "data": {
      "text/html": [
       "<div>\n",
       "<style scoped>\n",
       "    .dataframe tbody tr th:only-of-type {\n",
       "        vertical-align: middle;\n",
       "    }\n",
       "\n",
       "    .dataframe tbody tr th {\n",
       "        vertical-align: top;\n",
       "    }\n",
       "\n",
       "    .dataframe thead th {\n",
       "        text-align: right;\n",
       "    }\n",
       "</style>\n",
       "<table border=\"1\" class=\"dataframe\">\n",
       "  <thead>\n",
       "    <tr style=\"text-align: right;\">\n",
       "      <th></th>\n",
       "      <th>City</th>\n",
       "      <th>Cloudiness</th>\n",
       "      <th>Country</th>\n",
       "      <th>Date</th>\n",
       "      <th>Humidity</th>\n",
       "      <th>Lat</th>\n",
       "      <th>Lng</th>\n",
       "      <th>Max Temp</th>\n",
       "      <th>Wind Speed</th>\n",
       "    </tr>\n",
       "  </thead>\n",
       "  <tbody>\n",
       "    <tr>\n",
       "      <th>0</th>\n",
       "      <td>Hobyo</td>\n",
       "      <td>100</td>\n",
       "      <td>SO</td>\n",
       "      <td>1619906518</td>\n",
       "      <td>65</td>\n",
       "      <td>5.3505</td>\n",
       "      <td>48.5268</td>\n",
       "      <td>84.29</td>\n",
       "      <td>11.14</td>\n",
       "    </tr>\n",
       "    <tr>\n",
       "      <th>1</th>\n",
       "      <td>Toora-Khem</td>\n",
       "      <td>100</td>\n",
       "      <td>RU</td>\n",
       "      <td>1619906518</td>\n",
       "      <td>93</td>\n",
       "      <td>52.4675</td>\n",
       "      <td>96.1100</td>\n",
       "      <td>33.73</td>\n",
       "      <td>4.68</td>\n",
       "    </tr>\n",
       "    <tr>\n",
       "      <th>2</th>\n",
       "      <td>Jamestown</td>\n",
       "      <td>1</td>\n",
       "      <td>US</td>\n",
       "      <td>1619906519</td>\n",
       "      <td>28</td>\n",
       "      <td>42.0970</td>\n",
       "      <td>-79.2353</td>\n",
       "      <td>59.00</td>\n",
       "      <td>17.27</td>\n",
       "    </tr>\n",
       "    <tr>\n",
       "      <th>3</th>\n",
       "      <td>Atuona</td>\n",
       "      <td>2</td>\n",
       "      <td>PF</td>\n",
       "      <td>1619906519</td>\n",
       "      <td>69</td>\n",
       "      <td>-9.8000</td>\n",
       "      <td>-139.0333</td>\n",
       "      <td>79.03</td>\n",
       "      <td>6.17</td>\n",
       "    </tr>\n",
       "    <tr>\n",
       "      <th>4</th>\n",
       "      <td>Hermanus</td>\n",
       "      <td>45</td>\n",
       "      <td>ZA</td>\n",
       "      <td>1619906519</td>\n",
       "      <td>80</td>\n",
       "      <td>-34.4187</td>\n",
       "      <td>19.2345</td>\n",
       "      <td>57.99</td>\n",
       "      <td>1.01</td>\n",
       "    </tr>\n",
       "  </tbody>\n",
       "</table>\n",
       "</div>"
      ],
      "text/plain": [
       "         City  Cloudiness Country        Date  Humidity      Lat       Lng  \\\n",
       "0       Hobyo         100      SO  1619906518        65   5.3505   48.5268   \n",
       "1  Toora-Khem         100      RU  1619906518        93  52.4675   96.1100   \n",
       "2   Jamestown           1      US  1619906519        28  42.0970  -79.2353   \n",
       "3      Atuona           2      PF  1619906519        69  -9.8000 -139.0333   \n",
       "4    Hermanus          45      ZA  1619906519        80 -34.4187   19.2345   \n",
       "\n",
       "   Max Temp  Wind Speed  \n",
       "0     84.29       11.14  \n",
       "1     33.73        4.68  \n",
       "2     59.00       17.27  \n",
       "3     79.03        6.17  \n",
       "4     57.99        1.01  "
      ]
     },
     "execution_count": 114,
     "metadata": {},
     "output_type": "execute_result"
    }
   ],
   "source": [
    "#Create a panda df from city data \n",
    "weather_dict = pd.DataFrame({ \n",
    "                \"City\" : city_name_list,\n",
    "                \"Cloudiness\" : cloudiness_list,\n",
    "                \"Country\" : country_list,\n",
    "                \"Date\" : date_list,\n",
    "                \"Humidity\" : humidity_list,\n",
    "                \"Lat\" : lat_list,\n",
    "                \"Lng\" : lng_list,\n",
    "                \"Max Temp\" : max_temp_list,\n",
    "                \"Wind Speed\" : wind_speed_list\n",
    "})\n",
    "weather_dict.head()"
   ]
  },
  {
   "cell_type": "code",
   "execution_count": 115,
   "metadata": {},
   "outputs": [
    {
     "data": {
      "text/plain": [
       "City          547\n",
       "Cloudiness    547\n",
       "Country       547\n",
       "Date          547\n",
       "Humidity      547\n",
       "Lat           547\n",
       "Lng           547\n",
       "Max Temp      547\n",
       "Wind Speed    547\n",
       "dtype: int64"
      ]
     },
     "execution_count": 115,
     "metadata": {},
     "output_type": "execute_result"
    }
   ],
   "source": [
    "#get count of data\n",
    "weather_dict.count()"
   ]
  },
  {
   "cell_type": "markdown",
   "metadata": {},
   "source": [
    "## Inspect the data and remove the cities where the humidity > 100%.\n",
    "----\n",
    "Skip this step if there are no cities that have humidity > 100%. "
   ]
  },
  {
   "cell_type": "code",
   "execution_count": 116,
   "metadata": {},
   "outputs": [
    {
     "data": {
      "text/html": [
       "<div>\n",
       "<style scoped>\n",
       "    .dataframe tbody tr th:only-of-type {\n",
       "        vertical-align: middle;\n",
       "    }\n",
       "\n",
       "    .dataframe tbody tr th {\n",
       "        vertical-align: top;\n",
       "    }\n",
       "\n",
       "    .dataframe thead th {\n",
       "        text-align: right;\n",
       "    }\n",
       "</style>\n",
       "<table border=\"1\" class=\"dataframe\">\n",
       "  <thead>\n",
       "    <tr style=\"text-align: right;\">\n",
       "      <th></th>\n",
       "      <th>City</th>\n",
       "      <th>Cloudiness</th>\n",
       "      <th>Country</th>\n",
       "      <th>Date</th>\n",
       "      <th>Humidity</th>\n",
       "      <th>Lat</th>\n",
       "      <th>Lng</th>\n",
       "      <th>Max Temp</th>\n",
       "      <th>Wind Speed</th>\n",
       "    </tr>\n",
       "  </thead>\n",
       "  <tbody>\n",
       "    <tr>\n",
       "      <th>261</th>\n",
       "      <td>Sola</td>\n",
       "      <td>90</td>\n",
       "      <td>VU</td>\n",
       "      <td>1619906533</td>\n",
       "      <td>100</td>\n",
       "      <td>-13.8833</td>\n",
       "      <td>167.5500</td>\n",
       "      <td>77.00</td>\n",
       "      <td>12.15</td>\n",
       "    </tr>\n",
       "    <tr>\n",
       "      <th>188</th>\n",
       "      <td>Alyangula</td>\n",
       "      <td>5</td>\n",
       "      <td>AU</td>\n",
       "      <td>1619906577</td>\n",
       "      <td>100</td>\n",
       "      <td>-13.8483</td>\n",
       "      <td>136.4192</td>\n",
       "      <td>69.80</td>\n",
       "      <td>3.44</td>\n",
       "    </tr>\n",
       "    <tr>\n",
       "      <th>146</th>\n",
       "      <td>İmamoğlu</td>\n",
       "      <td>0</td>\n",
       "      <td>TR</td>\n",
       "      <td>1619906564</td>\n",
       "      <td>100</td>\n",
       "      <td>37.2651</td>\n",
       "      <td>35.6572</td>\n",
       "      <td>69.01</td>\n",
       "      <td>1.14</td>\n",
       "    </tr>\n",
       "    <tr>\n",
       "      <th>515</th>\n",
       "      <td>Valdivia</td>\n",
       "      <td>90</td>\n",
       "      <td>CL</td>\n",
       "      <td>1619906684</td>\n",
       "      <td>100</td>\n",
       "      <td>-39.8142</td>\n",
       "      <td>-73.2459</td>\n",
       "      <td>53.60</td>\n",
       "      <td>3.44</td>\n",
       "    </tr>\n",
       "    <tr>\n",
       "      <th>320</th>\n",
       "      <td>Port Hedland</td>\n",
       "      <td>90</td>\n",
       "      <td>AU</td>\n",
       "      <td>1619906621</td>\n",
       "      <td>100</td>\n",
       "      <td>-20.3167</td>\n",
       "      <td>118.5667</td>\n",
       "      <td>69.80</td>\n",
       "      <td>5.97</td>\n",
       "    </tr>\n",
       "    <tr>\n",
       "      <th>...</th>\n",
       "      <td>...</td>\n",
       "      <td>...</td>\n",
       "      <td>...</td>\n",
       "      <td>...</td>\n",
       "      <td>...</td>\n",
       "      <td>...</td>\n",
       "      <td>...</td>\n",
       "      <td>...</td>\n",
       "      <td>...</td>\n",
       "    </tr>\n",
       "    <tr>\n",
       "      <th>393</th>\n",
       "      <td>Dogondoutchi</td>\n",
       "      <td>1</td>\n",
       "      <td>NE</td>\n",
       "      <td>1619906643</td>\n",
       "      <td>8</td>\n",
       "      <td>13.6393</td>\n",
       "      <td>4.0287</td>\n",
       "      <td>90.19</td>\n",
       "      <td>4.90</td>\n",
       "    </tr>\n",
       "    <tr>\n",
       "      <th>491</th>\n",
       "      <td>Tanout</td>\n",
       "      <td>2</td>\n",
       "      <td>NE</td>\n",
       "      <td>1619906676</td>\n",
       "      <td>5</td>\n",
       "      <td>14.9709</td>\n",
       "      <td>8.8879</td>\n",
       "      <td>85.10</td>\n",
       "      <td>11.52</td>\n",
       "    </tr>\n",
       "    <tr>\n",
       "      <th>434</th>\n",
       "      <td>Bilma</td>\n",
       "      <td>0</td>\n",
       "      <td>NE</td>\n",
       "      <td>1619906657</td>\n",
       "      <td>5</td>\n",
       "      <td>18.6853</td>\n",
       "      <td>12.9164</td>\n",
       "      <td>87.19</td>\n",
       "      <td>5.53</td>\n",
       "    </tr>\n",
       "    <tr>\n",
       "      <th>12</th>\n",
       "      <td>Ubari</td>\n",
       "      <td>100</td>\n",
       "      <td>LY</td>\n",
       "      <td>1619906419</td>\n",
       "      <td>3</td>\n",
       "      <td>26.5921</td>\n",
       "      <td>12.7805</td>\n",
       "      <td>86.41</td>\n",
       "      <td>8.48</td>\n",
       "    </tr>\n",
       "    <tr>\n",
       "      <th>453</th>\n",
       "      <td>Harboøre</td>\n",
       "      <td>97</td>\n",
       "      <td>DK</td>\n",
       "      <td>1619906663</td>\n",
       "      <td>3</td>\n",
       "      <td>56.6175</td>\n",
       "      <td>8.1807</td>\n",
       "      <td>43.00</td>\n",
       "      <td>3.87</td>\n",
       "    </tr>\n",
       "  </tbody>\n",
       "</table>\n",
       "<p>547 rows × 9 columns</p>\n",
       "</div>"
      ],
      "text/plain": [
       "             City  Cloudiness Country        Date  Humidity      Lat  \\\n",
       "261          Sola          90      VU  1619906533       100 -13.8833   \n",
       "188     Alyangula           5      AU  1619906577       100 -13.8483   \n",
       "146      İmamoğlu           0      TR  1619906564       100  37.2651   \n",
       "515      Valdivia          90      CL  1619906684       100 -39.8142   \n",
       "320  Port Hedland          90      AU  1619906621       100 -20.3167   \n",
       "..            ...         ...     ...         ...       ...      ...   \n",
       "393  Dogondoutchi           1      NE  1619906643         8  13.6393   \n",
       "491        Tanout           2      NE  1619906676         5  14.9709   \n",
       "434         Bilma           0      NE  1619906657         5  18.6853   \n",
       "12          Ubari         100      LY  1619906419         3  26.5921   \n",
       "453      Harboøre          97      DK  1619906663         3  56.6175   \n",
       "\n",
       "          Lng  Max Temp  Wind Speed  \n",
       "261  167.5500     77.00       12.15  \n",
       "188  136.4192     69.80        3.44  \n",
       "146   35.6572     69.01        1.14  \n",
       "515  -73.2459     53.60        3.44  \n",
       "320  118.5667     69.80        5.97  \n",
       "..        ...       ...         ...  \n",
       "393    4.0287     90.19        4.90  \n",
       "491    8.8879     85.10       11.52  \n",
       "434   12.9164     87.19        5.53  \n",
       "12    12.7805     86.41        8.48  \n",
       "453    8.1807     43.00        3.87  \n",
       "\n",
       "[547 rows x 9 columns]"
      ]
     },
     "execution_count": 116,
     "metadata": {},
     "output_type": "execute_result"
    }
   ],
   "source": [
    "#check to see if any cities have humidity GREATER than 100%\n",
    "weather_dict.sort_values(by='Humidity', ascending=False)"
   ]
  },
  {
   "cell_type": "markdown",
   "metadata": {},
   "source": [
    "## Plotting the Data\n",
    "* Use proper labeling of the plots using plot titles (including date of analysis) and axes labels.\n",
    "* Save the plotted figures as .pngs."
   ]
  },
  {
   "cell_type": "markdown",
   "metadata": {},
   "source": [
    "## Latitude vs. Temperature Plot"
   ]
  },
  {
   "cell_type": "code",
   "execution_count": 117,
   "metadata": {
    "scrolled": true
   },
   "outputs": [
    {
     "data": {
      "image/png": "[encoded data removed]",
      "text/plain": [
       "<Figure size 432x288 with 1 Axes>"
      ]
     },
     "metadata": {
      "needs_background": "light"
     },
     "output_type": "display_data"
    },
    {
     "data": {
      "text/plain": [
       "<Figure size 432x288 with 0 Axes>"
      ]
     },
     "metadata": {},
     "output_type": "display_data"
    }
   ],
   "source": [
    "# Create Latitude vs. Temperature Plot scatter plot\n",
    "plt.scatter(weather_dict[\"Lat\"], weather_dict[\"Max Temp\"], facecolor = \"red\", edgecolor = \"black\")\n",
    "\n",
    "# Set labels\n",
    "plt.title(\"City Latitude vs. Max Temperature (05/01/2021)\")\n",
    "plt.xlabel(\"Laitude\")\n",
    "plt.ylabel(\"Max Temperature (F)\")\n",
    "\n",
    "# Set grid line\n",
    "plt.grid(linestyle='-', linewidth=1, alpha = 0.5)\n",
    "\n",
    "plt.show()\n",
    "\n",
    "# Save the plotted figure as .pngs\n",
    "plt.savefig(\"./Images/City Latitude vs Max Temperature.png\")"
   ]
  },
  {
   "cell_type": "markdown",
   "metadata": {},
   "source": [
    "The temperatures increase the closer you get to 0 latitude."
   ]
  },
  {
   "cell_type": "markdown",
   "metadata": {},
   "source": [
    "## Latitude vs. Humidity Plot"
   ]
  },
  {
   "cell_type": "code",
   "execution_count": 118,
   "metadata": {},
   "outputs": [
    {
     "data": {
      "image/png": "[encoded data removed]",
      "text/plain": [
       "<Figure size 432x288 with 1 Axes>"
      ]
     },
     "metadata": {
      "needs_background": "light"
     },
     "output_type": "display_data"
    },
    {
     "data": {
      "text/plain": [
       "<Figure size 432x288 with 0 Axes>"
      ]
     },
     "metadata": {},
     "output_type": "display_data"
    }
   ],
   "source": [
    "# Create Latitude vs. Humidity Plot scatter plot\n",
    "plt.scatter(weather_dict[\"Lat\"], weather_dict[\"Humidity\"], facecolor = \"blue\", edgecolor = \"black\")\n",
    "\n",
    "# Set labels\n",
    "plt.title(\"City Latitude vs. Humidity (05/01/2021)\")\n",
    "plt.xlabel(\"Laitude\")\n",
    "plt.ylabel(\"Humidity (%)\")\n",
    "plt.grid(linestyle='-', linewidth=1, alpha = 0.5)\n",
    "\n",
    "plt.show()\n",
    "\n",
    "# Save the plotted figure as .pngs\n",
    "plt.savefig(\"./Images/City Latitude vs Humidity.png\")"
   ]
  },
  {
   "cell_type": "markdown",
   "metadata": {},
   "source": [
    "Humidity levels go down as you move north of the equator."
   ]
  },
  {
   "cell_type": "markdown",
   "metadata": {},
   "source": [
    "## Latitude vs. Cloudiness Plot"
   ]
  },
  {
   "cell_type": "code",
   "execution_count": 119,
   "metadata": {},
   "outputs": [
    {
     "data": {
      "image/png": "[encoded data removed]",
      "text/plain": [
       "<Figure size 432x288 with 1 Axes>"
      ]
     },
     "metadata": {
      "needs_background": "light"
     },
     "output_type": "display_data"
    },
    {
     "data": {
      "text/plain": [
       "<Figure size 432x288 with 0 Axes>"
      ]
     },
     "metadata": {},
     "output_type": "display_data"
    }
   ],
   "source": [
    "# Create Latitude vs. Cloudiness Plot scatter plot\n",
    "plt.scatter(weather_dict[\"Lat\"], weather_dict[\"Cloudiness\"], facecolor = \"grey\", edgecolor = \"black\")\n",
    "\n",
    "# Set lables\n",
    "plt.title(\"City Latitude vs. Cloudiness (05/01/2021)\")\n",
    "plt.xlabel(\"Laitude\")\n",
    "plt.ylabel(\"Cloudiness (%)\")\n",
    "plt.ylim(-5,105)\n",
    "plt.grid(linestyle='-', linewidth=1, alpha = 0.5)\n",
    "\n",
    "plt.show()\n",
    "\n",
    "# Save the plotted figure as .pngs\n",
    "plt.savefig(\"./Images/City Latitude vs Cloudiness.png\")"
   ]
  },
  {
   "cell_type": "markdown",
   "metadata": {},
   "source": [
    "Cloudiness data is all over the map.  Does not appear to have any relationship with location."
   ]
  },
  {
   "cell_type": "markdown",
   "metadata": {},
   "source": [
    "## Latitude vs. Wind Speed Plot"
   ]
  },
  {
   "cell_type": "code",
   "execution_count": 120,
   "metadata": {},
   "outputs": [
    {
     "data": {
      "image/png": "[encoded data removed]",
      "text/plain": [
       "<Figure size 432x288 with 1 Axes>"
      ]
     },
     "metadata": {
      "needs_background": "light"
     },
     "output_type": "display_data"
    },
    {
     "data": {
      "text/plain": [
       "<Figure size 432x288 with 0 Axes>"
      ]
     },
     "metadata": {},
     "output_type": "display_data"
    }
   ],
   "source": [
    "# Create Latitude vs. Cloudiness Plot scatter plot\n",
    "# Create Latitude vs. Wind Speed scatter plot\n",
    "plt.scatter(weather_dict[\"Lat\"], weather_dict[\"Wind Speed\"], facecolor = \"green\", edgecolor = \"black\")\n",
    "plt.title(\"City Latitude vs. Wind Speed (mph) (01/17/20)\")\n",
    "\n",
    "# Set labels\n",
    "plt.xlabel(\"Laitude\")\n",
    "plt.ylabel(\"Wind Speed (%)\")\n",
    "plt.ylim(-2,50)\n",
    "plt.grid(linestyle='-', linewidth=1, alpha = 0.5)\n",
    "\n",
    "plt.show()\n",
    "\n",
    "# Save the plotted figure as .pngs\n",
    "plt.savefig(\"./Images/City Latitude vs Wind Speed (mph).png\")"
   ]
  },
  {
   "cell_type": "markdown",
   "metadata": {},
   "source": [
    "Wind speed is all over the map.  Doesn't appear to have any relationship with location."
   ]
  },
  {
   "cell_type": "markdown",
   "metadata": {},
   "source": [
    "## Linear Regression"
   ]
  },
  {
   "cell_type": "code",
   "execution_count": 121,
   "metadata": {},
   "outputs": [
    {
     "data": {
      "text/html": [
       "<div>\n",
       "<style scoped>\n",
       "    .dataframe tbody tr th:only-of-type {\n",
       "        vertical-align: middle;\n",
       "    }\n",
       "\n",
       "    .dataframe tbody tr th {\n",
       "        vertical-align: top;\n",
       "    }\n",
       "\n",
       "    .dataframe thead th {\n",
       "        text-align: right;\n",
       "    }\n",
       "</style>\n",
       "<table border=\"1\" class=\"dataframe\">\n",
       "  <thead>\n",
       "    <tr style=\"text-align: right;\">\n",
       "      <th></th>\n",
       "      <th>City</th>\n",
       "      <th>Cloudiness</th>\n",
       "      <th>Country</th>\n",
       "      <th>Date</th>\n",
       "      <th>Humidity</th>\n",
       "      <th>Lat</th>\n",
       "      <th>Lng</th>\n",
       "      <th>Max Temp</th>\n",
       "      <th>Wind Speed</th>\n",
       "    </tr>\n",
       "  </thead>\n",
       "  <tbody>\n",
       "    <tr>\n",
       "      <th>0</th>\n",
       "      <td>Hobyo</td>\n",
       "      <td>100</td>\n",
       "      <td>SO</td>\n",
       "      <td>1619906518</td>\n",
       "      <td>65</td>\n",
       "      <td>5.3505</td>\n",
       "      <td>48.5268</td>\n",
       "      <td>84.29</td>\n",
       "      <td>11.14</td>\n",
       "    </tr>\n",
       "    <tr>\n",
       "      <th>1</th>\n",
       "      <td>Toora-Khem</td>\n",
       "      <td>100</td>\n",
       "      <td>RU</td>\n",
       "      <td>1619906518</td>\n",
       "      <td>93</td>\n",
       "      <td>52.4675</td>\n",
       "      <td>96.1100</td>\n",
       "      <td>33.73</td>\n",
       "      <td>4.68</td>\n",
       "    </tr>\n",
       "    <tr>\n",
       "      <th>2</th>\n",
       "      <td>Jamestown</td>\n",
       "      <td>1</td>\n",
       "      <td>US</td>\n",
       "      <td>1619906519</td>\n",
       "      <td>28</td>\n",
       "      <td>42.0970</td>\n",
       "      <td>-79.2353</td>\n",
       "      <td>59.00</td>\n",
       "      <td>17.27</td>\n",
       "    </tr>\n",
       "    <tr>\n",
       "      <th>5</th>\n",
       "      <td>Kuala Terengganu</td>\n",
       "      <td>40</td>\n",
       "      <td>MY</td>\n",
       "      <td>1619906520</td>\n",
       "      <td>89</td>\n",
       "      <td>5.3302</td>\n",
       "      <td>103.1408</td>\n",
       "      <td>78.80</td>\n",
       "      <td>4.61</td>\n",
       "    </tr>\n",
       "    <tr>\n",
       "      <th>6</th>\n",
       "      <td>Saskylakh</td>\n",
       "      <td>100</td>\n",
       "      <td>RU</td>\n",
       "      <td>1619906345</td>\n",
       "      <td>95</td>\n",
       "      <td>71.9167</td>\n",
       "      <td>114.0833</td>\n",
       "      <td>31.30</td>\n",
       "      <td>1.70</td>\n",
       "    </tr>\n",
       "    <tr>\n",
       "      <th>...</th>\n",
       "      <td>...</td>\n",
       "      <td>...</td>\n",
       "      <td>...</td>\n",
       "      <td>...</td>\n",
       "      <td>...</td>\n",
       "      <td>...</td>\n",
       "      <td>...</td>\n",
       "      <td>...</td>\n",
       "      <td>...</td>\n",
       "    </tr>\n",
       "    <tr>\n",
       "      <th>541</th>\n",
       "      <td>Fortuna</td>\n",
       "      <td>90</td>\n",
       "      <td>US</td>\n",
       "      <td>1619906576</td>\n",
       "      <td>82</td>\n",
       "      <td>40.5982</td>\n",
       "      <td>-124.1573</td>\n",
       "      <td>57.99</td>\n",
       "      <td>20.71</td>\n",
       "    </tr>\n",
       "    <tr>\n",
       "      <th>542</th>\n",
       "      <td>Chernitsyno</td>\n",
       "      <td>100</td>\n",
       "      <td>RU</td>\n",
       "      <td>1619906692</td>\n",
       "      <td>81</td>\n",
       "      <td>51.5074</td>\n",
       "      <td>36.0510</td>\n",
       "      <td>44.60</td>\n",
       "      <td>4.47</td>\n",
       "    </tr>\n",
       "    <tr>\n",
       "      <th>544</th>\n",
       "      <td>Rock Sound</td>\n",
       "      <td>67</td>\n",
       "      <td>BS</td>\n",
       "      <td>1619906692</td>\n",
       "      <td>68</td>\n",
       "      <td>24.9000</td>\n",
       "      <td>-76.2000</td>\n",
       "      <td>78.35</td>\n",
       "      <td>1.68</td>\n",
       "    </tr>\n",
       "    <tr>\n",
       "      <th>545</th>\n",
       "      <td>Xining</td>\n",
       "      <td>31</td>\n",
       "      <td>CN</td>\n",
       "      <td>1619906652</td>\n",
       "      <td>40</td>\n",
       "      <td>36.6167</td>\n",
       "      <td>101.7667</td>\n",
       "      <td>50.25</td>\n",
       "      <td>1.86</td>\n",
       "    </tr>\n",
       "    <tr>\n",
       "      <th>546</th>\n",
       "      <td>Klaksvík</td>\n",
       "      <td>90</td>\n",
       "      <td>FO</td>\n",
       "      <td>1619906660</td>\n",
       "      <td>81</td>\n",
       "      <td>62.2266</td>\n",
       "      <td>-6.5890</td>\n",
       "      <td>37.40</td>\n",
       "      <td>3.44</td>\n",
       "    </tr>\n",
       "  </tbody>\n",
       "</table>\n",
       "<p>378 rows × 9 columns</p>\n",
       "</div>"
      ],
      "text/plain": [
       "                 City  Cloudiness Country        Date  Humidity      Lat  \\\n",
       "0               Hobyo         100      SO  1619906518        65   5.3505   \n",
       "1          Toora-Khem         100      RU  1619906518        93  52.4675   \n",
       "2           Jamestown           1      US  1619906519        28  42.0970   \n",
       "5    Kuala Terengganu          40      MY  1619906520        89   5.3302   \n",
       "6           Saskylakh         100      RU  1619906345        95  71.9167   \n",
       "..                ...         ...     ...         ...       ...      ...   \n",
       "541           Fortuna          90      US  1619906576        82  40.5982   \n",
       "542       Chernitsyno         100      RU  1619906692        81  51.5074   \n",
       "544        Rock Sound          67      BS  1619906692        68  24.9000   \n",
       "545            Xining          31      CN  1619906652        40  36.6167   \n",
       "546          Klaksvík          90      FO  1619906660        81  62.2266   \n",
       "\n",
       "          Lng  Max Temp  Wind Speed  \n",
       "0     48.5268     84.29       11.14  \n",
       "1     96.1100     33.73        4.68  \n",
       "2    -79.2353     59.00       17.27  \n",
       "5    103.1408     78.80        4.61  \n",
       "6    114.0833     31.30        1.70  \n",
       "..        ...       ...         ...  \n",
       "541 -124.1573     57.99       20.71  \n",
       "542   36.0510     44.60        4.47  \n",
       "544  -76.2000     78.35        1.68  \n",
       "545  101.7667     50.25        1.86  \n",
       "546   -6.5890     37.40        3.44  \n",
       "\n",
       "[378 rows x 9 columns]"
      ]
     },
     "execution_count": 121,
     "metadata": {},
     "output_type": "execute_result"
    }
   ],
   "source": [
    "#create Northern & Souther Hemisphere .df\n",
    "northern_hemisphere = weather_dict.loc[weather_dict[\"Lat\"] >= 0]\n",
    "\n",
    "northern_hemisphere"
   ]
  },
  {
   "cell_type": "code",
   "execution_count": 122,
   "metadata": {},
   "outputs": [
    {
     "data": {
      "text/html": [
       "<div>\n",
       "<style scoped>\n",
       "    .dataframe tbody tr th:only-of-type {\n",
       "        vertical-align: middle;\n",
       "    }\n",
       "\n",
       "    .dataframe tbody tr th {\n",
       "        vertical-align: top;\n",
       "    }\n",
       "\n",
       "    .dataframe thead th {\n",
       "        text-align: right;\n",
       "    }\n",
       "</style>\n",
       "<table border=\"1\" class=\"dataframe\">\n",
       "  <thead>\n",
       "    <tr style=\"text-align: right;\">\n",
       "      <th></th>\n",
       "      <th>City</th>\n",
       "      <th>Cloudiness</th>\n",
       "      <th>Country</th>\n",
       "      <th>Date</th>\n",
       "      <th>Humidity</th>\n",
       "      <th>Lat</th>\n",
       "      <th>Lng</th>\n",
       "      <th>Max Temp</th>\n",
       "      <th>Wind Speed</th>\n",
       "    </tr>\n",
       "  </thead>\n",
       "  <tbody>\n",
       "    <tr>\n",
       "      <th>3</th>\n",
       "      <td>Atuona</td>\n",
       "      <td>2</td>\n",
       "      <td>PF</td>\n",
       "      <td>1619906519</td>\n",
       "      <td>69</td>\n",
       "      <td>-9.8000</td>\n",
       "      <td>-139.0333</td>\n",
       "      <td>79.03</td>\n",
       "      <td>6.17</td>\n",
       "    </tr>\n",
       "    <tr>\n",
       "      <th>4</th>\n",
       "      <td>Hermanus</td>\n",
       "      <td>45</td>\n",
       "      <td>ZA</td>\n",
       "      <td>1619906519</td>\n",
       "      <td>80</td>\n",
       "      <td>-34.4187</td>\n",
       "      <td>19.2345</td>\n",
       "      <td>57.99</td>\n",
       "      <td>1.01</td>\n",
       "    </tr>\n",
       "    <tr>\n",
       "      <th>7</th>\n",
       "      <td>Geraldton</td>\n",
       "      <td>84</td>\n",
       "      <td>AU</td>\n",
       "      <td>1619906520</td>\n",
       "      <td>62</td>\n",
       "      <td>-28.7667</td>\n",
       "      <td>114.6000</td>\n",
       "      <td>51.80</td>\n",
       "      <td>8.05</td>\n",
       "    </tr>\n",
       "    <tr>\n",
       "      <th>8</th>\n",
       "      <td>Chui</td>\n",
       "      <td>1</td>\n",
       "      <td>UY</td>\n",
       "      <td>1619906521</td>\n",
       "      <td>90</td>\n",
       "      <td>-33.6971</td>\n",
       "      <td>-53.4616</td>\n",
       "      <td>63.27</td>\n",
       "      <td>6.13</td>\n",
       "    </tr>\n",
       "    <tr>\n",
       "      <th>10</th>\n",
       "      <td>Punta Arenas</td>\n",
       "      <td>40</td>\n",
       "      <td>CL</td>\n",
       "      <td>1619906408</td>\n",
       "      <td>81</td>\n",
       "      <td>-53.1500</td>\n",
       "      <td>-70.9167</td>\n",
       "      <td>42.80</td>\n",
       "      <td>4.61</td>\n",
       "    </tr>\n",
       "    <tr>\n",
       "      <th>...</th>\n",
       "      <td>...</td>\n",
       "      <td>...</td>\n",
       "      <td>...</td>\n",
       "      <td>...</td>\n",
       "      <td>...</td>\n",
       "      <td>...</td>\n",
       "      <td>...</td>\n",
       "      <td>...</td>\n",
       "      <td>...</td>\n",
       "    </tr>\n",
       "    <tr>\n",
       "      <th>527</th>\n",
       "      <td>Constitución</td>\n",
       "      <td>100</td>\n",
       "      <td>CL</td>\n",
       "      <td>1619906632</td>\n",
       "      <td>95</td>\n",
       "      <td>-35.3333</td>\n",
       "      <td>-72.4167</td>\n",
       "      <td>54.82</td>\n",
       "      <td>5.39</td>\n",
       "    </tr>\n",
       "    <tr>\n",
       "      <th>537</th>\n",
       "      <td>Vila Velha</td>\n",
       "      <td>40</td>\n",
       "      <td>BR</td>\n",
       "      <td>1619906546</td>\n",
       "      <td>73</td>\n",
       "      <td>-20.3297</td>\n",
       "      <td>-40.2925</td>\n",
       "      <td>73.40</td>\n",
       "      <td>13.80</td>\n",
       "    </tr>\n",
       "    <tr>\n",
       "      <th>539</th>\n",
       "      <td>Salinópolis</td>\n",
       "      <td>15</td>\n",
       "      <td>BR</td>\n",
       "      <td>1619906691</td>\n",
       "      <td>82</td>\n",
       "      <td>-0.6136</td>\n",
       "      <td>-47.3561</td>\n",
       "      <td>78.40</td>\n",
       "      <td>5.35</td>\n",
       "    </tr>\n",
       "    <tr>\n",
       "      <th>540</th>\n",
       "      <td>Calvinia</td>\n",
       "      <td>1</td>\n",
       "      <td>ZA</td>\n",
       "      <td>1619906602</td>\n",
       "      <td>28</td>\n",
       "      <td>-31.4707</td>\n",
       "      <td>19.7760</td>\n",
       "      <td>57.60</td>\n",
       "      <td>6.15</td>\n",
       "    </tr>\n",
       "    <tr>\n",
       "      <th>543</th>\n",
       "      <td>Paita</td>\n",
       "      <td>0</td>\n",
       "      <td>PE</td>\n",
       "      <td>1619906671</td>\n",
       "      <td>69</td>\n",
       "      <td>-5.0892</td>\n",
       "      <td>-81.1144</td>\n",
       "      <td>77.00</td>\n",
       "      <td>14.97</td>\n",
       "    </tr>\n",
       "  </tbody>\n",
       "</table>\n",
       "<p>169 rows × 9 columns</p>\n",
       "</div>"
      ],
      "text/plain": [
       "             City  Cloudiness Country        Date  Humidity      Lat  \\\n",
       "3          Atuona           2      PF  1619906519        69  -9.8000   \n",
       "4        Hermanus          45      ZA  1619906519        80 -34.4187   \n",
       "7       Geraldton          84      AU  1619906520        62 -28.7667   \n",
       "8            Chui           1      UY  1619906521        90 -33.6971   \n",
       "10   Punta Arenas          40      CL  1619906408        81 -53.1500   \n",
       "..            ...         ...     ...         ...       ...      ...   \n",
       "527  Constitución         100      CL  1619906632        95 -35.3333   \n",
       "537    Vila Velha          40      BR  1619906546        73 -20.3297   \n",
       "539   Salinópolis          15      BR  1619906691        82  -0.6136   \n",
       "540      Calvinia           1      ZA  1619906602        28 -31.4707   \n",
       "543         Paita           0      PE  1619906671        69  -5.0892   \n",
       "\n",
       "          Lng  Max Temp  Wind Speed  \n",
       "3   -139.0333     79.03        6.17  \n",
       "4     19.2345     57.99        1.01  \n",
       "7    114.6000     51.80        8.05  \n",
       "8    -53.4616     63.27        6.13  \n",
       "10   -70.9167     42.80        4.61  \n",
       "..        ...       ...         ...  \n",
       "527  -72.4167     54.82        5.39  \n",
       "537  -40.2925     73.40       13.80  \n",
       "539  -47.3561     78.40        5.35  \n",
       "540   19.7760     57.60        6.15  \n",
       "543  -81.1144     77.00       14.97  \n",
       "\n",
       "[169 rows x 9 columns]"
      ]
     },
     "execution_count": 122,
     "metadata": {},
     "output_type": "execute_result"
    }
   ],
   "source": [
    "southern_hemisphere = weather_dict.loc[weather_dict[\"Lat\"]<0]\n",
    "\n",
    "southern_hemisphere"
   ]
  },
  {
   "cell_type": "code",
   "execution_count": 123,
   "metadata": {},
   "outputs": [],
   "source": [
    "import scipy.stats as st\n",
    "\n",
    "def linear_agression(x,y):\n",
    "    print(f\"The r-squared is : {round(st.pearsonr(x, y)[0],2)}\")\n",
    "    (slope, intercept, rvalue, pvalue, stderr) = linregress(x, y)\n",
    "    regress_values = x * slope + intercept\n",
    "    line_eq = \"y = \" + str(round(slope,2)) + \"x + \" + str(round(intercept,2))\n",
    "    plt.scatter(x, y)\n",
    "    plt.plot(x,regress_values,\"r-\")\n",
    "    return line_eq\n",
    "\n",
    "# Define a fuction for annotating\n",
    "def annotate(line_eq, a, b):\n",
    "    plt.annotate(line_eq,(a,b),fontsize=15,color=\"red\")"
   ]
  },
  {
   "cell_type": "markdown",
   "metadata": {},
   "source": [
    "####  Northern Hemisphere - Max Temp vs. Latitude Linear Regression"
   ]
  },
  {
   "cell_type": "code",
   "execution_count": 124,
   "metadata": {},
   "outputs": [
    {
     "name": "stdout",
     "output_type": "stream",
     "text": [
      "The r-squared is : -0.88\n"
     ]
    },
    {
     "data": {
      "image/png": "[encoded data removed]",
      "text/plain": [
       "<Figure size 432x288 with 1 Axes>"
      ]
     },
     "metadata": {
      "needs_background": "light"
     },
     "output_type": "display_data"
    },
    {
     "data": {
      "text/plain": [
       "<Figure size 432x288 with 0 Axes>"
      ]
     },
     "metadata": {},
     "output_type": "display_data"
    }
   ],
   "source": [
    "# Call an function #1\n",
    "equation = linear_agression(northern_hemisphere[\"Lat\"], northern_hemisphere[\"Max Temp\"])\n",
    "\n",
    "# Call an function #2\n",
    "annotate(equation, 0, 0)\n",
    "\n",
    "# Set labels\n",
    "plt.title(\"Northern Hemisphere - Max Temp vs. Latitude Linear Regression\")\n",
    "plt.xlabel(\"Latitude\")\n",
    "plt.ylabel(\"Max Temp (F)\")\n",
    "\n",
    "plt.show()\n",
    "\n",
    "# Save the figure\n",
    "plt.savefig(\"./Images/Northern Hemisphere - Max Temp vs. Latitude Linear Regression.png\")"
   ]
  },
  {
   "cell_type": "markdown",
   "metadata": {},
   "source": [
    "There is a strong negative coorelation between latitude and max temp for northern hemisphere."
   ]
  },
  {
   "cell_type": "markdown",
   "metadata": {},
   "source": [
    "####  Southern Hemisphere - Max Temp vs. Latitude Linear Regression"
   ]
  },
  {
   "cell_type": "code",
   "execution_count": 125,
   "metadata": {},
   "outputs": [
    {
     "name": "stdout",
     "output_type": "stream",
     "text": [
      "The r-squared is : 0.77\n"
     ]
    },
    {
     "data": {
      "image/png": "[encoded data removed]",
      "text/plain": [
       "<Figure size 432x288 with 1 Axes>"
      ]
     },
     "metadata": {
      "needs_background": "light"
     },
     "output_type": "display_data"
    },
    {
     "data": {
      "text/plain": [
       "<Figure size 432x288 with 0 Axes>"
      ]
     },
     "metadata": {},
     "output_type": "display_data"
    }
   ],
   "source": [
    "# Call an function #1\n",
    "equation = linear_agression(southern_hemisphere[\"Lat\"],southern_hemisphere[\"Max Temp\"])\n",
    "\n",
    "# Call an function #2\n",
    "annotate(equation, -30, 50)\n",
    "\n",
    "# Setlabels\n",
    "plt.title(\"Southern Hemisphere - Max Temp vs. Latitude Linear Regression\")\n",
    "plt.xlabel(\"Latitude\")\n",
    "plt.ylabel(\"Max Temp (F)\")\n",
    "\n",
    "plt.show()\n",
    "\n",
    "# Save the figure\n",
    "plt.savefig(\"./Images/Southern Hemisphere - Max Temp vs. Latitude Linear Regression.png\")"
   ]
  },
  {
   "cell_type": "markdown",
   "metadata": {},
   "source": [
    "There is a moderate positive coorelation between latitude and max temp for the southern hemisphere"
   ]
  },
  {
   "cell_type": "markdown",
   "metadata": {},
   "source": [
    "####  Northern Hemisphere - Humidity (%) vs. Latitude Linear Regression"
   ]
  },
  {
   "cell_type": "code",
   "execution_count": 126,
   "metadata": {},
   "outputs": [
    {
     "name": "stdout",
     "output_type": "stream",
     "text": [
      "The r-squared is : 0.13\n"
     ]
    },
    {
     "data": {
      "image/png": "[encoded data removed]",
      "text/plain": [
       "<Figure size 432x288 with 1 Axes>"
      ]
     },
     "metadata": {
      "needs_background": "light"
     },
     "output_type": "display_data"
    },
    {
     "data": {
      "text/plain": [
       "<Figure size 432x288 with 0 Axes>"
      ]
     },
     "metadata": {},
     "output_type": "display_data"
    }
   ],
   "source": [
    "# Call an function #1\n",
    "equation = linear_agression(northern_hemisphere[\"Lat\"], northern_hemisphere[\"Humidity\"])\n",
    "\n",
    "# Call an function #2\n",
    "annotate(equation, 40, 15)\n",
    "\n",
    "# Set labels\n",
    "plt.title(\"Northern Hemisphere - Humidity (%) vs. Latitude Linear Regression\")\n",
    "plt.xlabel(\"Latitude\")\n",
    "plt.ylabel(\"Humidity (%)\")\n",
    "\n",
    "plt.show()\n",
    "\n",
    "# Save the figure\n",
    "plt.savefig(\"./Images/Northern Hemisphere - Humidity (%) vs. Latitude Linear Regression.png\")"
   ]
  },
  {
   "cell_type": "markdown",
   "metadata": {},
   "source": [
    "there weak positive correlation between latitude and humidity in the northern hemisphere"
   ]
  },
  {
   "cell_type": "markdown",
   "metadata": {},
   "source": [
    "####  Southern Hemisphere - Humidity (%) vs. Latitude Linear Regression"
   ]
  },
  {
   "cell_type": "code",
   "execution_count": 127,
   "metadata": {},
   "outputs": [
    {
     "name": "stdout",
     "output_type": "stream",
     "text": [
      "The r-squared is : 0.32\n"
     ]
    },
    {
     "data": {
      "image/png": "[encoded data removed]",
      "text/plain": [
       "<Figure size 432x288 with 1 Axes>"
      ]
     },
     "metadata": {
      "needs_background": "light"
     },
     "output_type": "display_data"
    },
    {
     "data": {
      "text/plain": [
       "<Figure size 432x288 with 0 Axes>"
      ]
     },
     "metadata": {},
     "output_type": "display_data"
    }
   ],
   "source": [
    "# Call an function #1\n",
    "equation = linear_agression(southern_hemisphere[\"Lat\"], southern_hemisphere[\"Humidity\"])\n",
    "\n",
    "# Call an function #2\n",
    "annotate(equation, -40, 50)\n",
    "\n",
    "# Set labels\n",
    "plt.title(\"Southern Hemisphere - Humidity (%) vs. Latitude Linear Regression\")\n",
    "plt.xlabel(\"Latitude\")\n",
    "plt.ylabel(\"Humidity (%)\")\n",
    "\n",
    "plt.show()\n",
    "\n",
    "# Save the figure\n",
    "plt.savefig(\"./Images/Southern Hemisphere - Humidity (%) vs. Latitude Linear Regression.png\")"
   ]
  },
  {
   "cell_type": "markdown",
   "metadata": {},
   "source": [
    "There is a moderate positive correlation between latitude and humidity in the southern hemisphere"
   ]
  },
  {
   "cell_type": "markdown",
   "metadata": {},
   "source": [
    "####  Northern Hemisphere - Cloudiness (%) vs. Latitude Linear Regression"
   ]
  },
  {
   "cell_type": "code",
   "execution_count": 128,
   "metadata": {},
   "outputs": [
    {
     "name": "stdout",
     "output_type": "stream",
     "text": [
      "The r-squared is : 0.2\n"
     ]
    },
    {
     "data": {
      "image/png": "[encoded data removed]",
      "text/plain": [
       "<Figure size 432x288 with 1 Axes>"
      ]
     },
     "metadata": {
      "needs_background": "light"
     },
     "output_type": "display_data"
    },
    {
     "data": {
      "text/plain": [
       "<Figure size 432x288 with 0 Axes>"
      ]
     },
     "metadata": {},
     "output_type": "display_data"
    }
   ],
   "source": [
    "# Call an function #1\n",
    "equation = linear_agression(northern_hemisphere[\"Lat\"], northern_hemisphere[\"Cloudiness\"])\n",
    "\n",
    "# Call an function #2\n",
    "annotate(equation, 30, 40)\n",
    "\n",
    "# Set labels\n",
    "plt.title(\"Northern Hemisphere - Cloudiness (%) vs. Latitude Linear Regression\")\n",
    "plt.xlabel(\"Latitude\")\n",
    "plt.ylabel(\"Cloudiness (%)\")\n",
    "\n",
    "plt.show()\n",
    "\n",
    "# Save the figure\n",
    "plt.savefig(\"./Images/Northern Hemisphere - Cloudiness (%) vs. Latitude Linear Regression.png\")"
   ]
  },
  {
   "cell_type": "markdown",
   "metadata": {},
   "source": [
    "There is a slightly moderate positive correlation between cloudiness and latitude in the northern hemisphere."
   ]
  },
  {
   "cell_type": "markdown",
   "metadata": {},
   "source": [
    "####  Southern Hemisphere - Cloudiness (%) vs. Latitude Linear Regression"
   ]
  },
  {
   "cell_type": "code",
   "execution_count": 129,
   "metadata": {},
   "outputs": [
    {
     "name": "stdout",
     "output_type": "stream",
     "text": [
      "The r-squared is : 0.22\n"
     ]
    },
    {
     "data": {
      "image/png": "[encoded data removed]",
      "text/plain": [
       "<Figure size 432x288 with 1 Axes>"
      ]
     },
     "metadata": {
      "needs_background": "light"
     },
     "output_type": "display_data"
    },
    {
     "data": {
      "text/plain": [
       "<Figure size 432x288 with 0 Axes>"
      ]
     },
     "metadata": {},
     "output_type": "display_data"
    }
   ],
   "source": [
    "# Call an function #1\n",
    "equation = linear_agression(southern_hemisphere[\"Lat\"], southern_hemisphere[\"Cloudiness\"])\n",
    "\n",
    "# Call an function #2\n",
    "annotate(equation, -30, 40)\n",
    "\n",
    "# Set labels\n",
    "plt.title(\"Southern Hemisphere - Cloudiness (%) vs. Latitude Linear Regression\")\n",
    "plt.xlabel(\"Latitude\")\n",
    "plt.ylabel(\"Cloudiness (%)\")\n",
    "\n",
    "plt.show()\n",
    "\n",
    "# Save the figure\n",
    "plt.savefig(\"./Images/Southern Hemisphere - Cloudiness (%) vs. Latitude Linear Regression.png\")"
   ]
  },
  {
   "cell_type": "markdown",
   "metadata": {},
   "source": [
    "There is a slightly moderate positive correlation between cloudiness and latitude in the northern hemisphere."
   ]
  },
  {
   "cell_type": "markdown",
   "metadata": {},
   "source": [
    "####  Northern Hemisphere - Wind Speed (mph) vs. Latitude Linear Regression"
   ]
  },
  {
   "cell_type": "code",
   "execution_count": 130,
   "metadata": {},
   "outputs": [
    {
     "name": "stdout",
     "output_type": "stream",
     "text": [
      "The r-squared is : 0.09\n"
     ]
    },
    {
     "data": {
      "image/png": "[encoded data removed]",
      "text/plain": [
       "<Figure size 432x288 with 1 Axes>"
      ]
     },
     "metadata": {
      "needs_background": "light"
     },
     "output_type": "display_data"
    },
    {
     "data": {
      "text/plain": [
       "<Figure size 432x288 with 0 Axes>"
      ]
     },
     "metadata": {},
     "output_type": "display_data"
    }
   ],
   "source": [
    "# Call an function #1\n",
    "equation = linear_agression(northern_hemisphere[\"Lat\"], northern_hemisphere[\"Wind Speed\"])\n",
    "\n",
    "# Call an function #2\n",
    "annotate(equation, 40, 20)\n",
    "\n",
    "# Set labels\n",
    "plt.title(\"Northern Hemisphere - Wind Speed (mph) vs. Latitude Linear Regression\")\n",
    "plt.xlabel(\"Latitude\")\n",
    "plt.ylabel(\"Wind Speed (mph)\")\n",
    "\n",
    "plt.show()\n",
    "\n",
    "# Save the figure\n",
    "plt.savefig(\"./Images/Northern Hemisphere - Wind Speed vs. Latitude Linear Regression.png\")"
   ]
  },
  {
   "cell_type": "markdown",
   "metadata": {},
   "source": [
    "There is a weak positive correlation beween latitide and windspeed in the northern hemisphere."
   ]
  },
  {
   "cell_type": "markdown",
   "metadata": {},
   "source": [
    "####  Southern Hemisphere - Wind Speed (mph) vs. Latitude Linear Regression"
   ]
  },
  {
   "cell_type": "code",
   "execution_count": 131,
   "metadata": {},
   "outputs": [
    {
     "name": "stdout",
     "output_type": "stream",
     "text": [
      "The r-squared is : -0.08\n"
     ]
    },
    {
     "data": {
      "image/png": "[encoded data removed]",
      "text/plain": [
       "<Figure size 432x288 with 1 Axes>"
      ]
     },
     "metadata": {
      "needs_background": "light"
     },
     "output_type": "display_data"
    },
    {
     "data": {
      "text/plain": [
       "<Figure size 432x288 with 0 Axes>"
      ]
     },
     "metadata": {},
     "output_type": "display_data"
    }
   ],
   "source": [
    "# Call an function #1\n",
    "equation = linear_agression(southern_hemisphere[\"Lat\"], southern_hemisphere[\"Wind Speed\"])\n",
    "\n",
    "# Call an function #2\n",
    "annotate(equation, -30, 15)\n",
    "\n",
    "# Set labels\n",
    "plt.title(\"Southern Hemisphere - Wind Speed (mph) vs. Latitude Linear Regression\")\n",
    "plt.xlabel(\"Latitude\")\n",
    "plt.ylabel(\"Wind Speed (mph)\")\n",
    "\n",
    "plt.show()\n",
    "\n",
    "# Save the figure\n",
    "plt.savefig(\"./Images/Southern Hemisphere - Wind Speed vs. Latitude Linear Regression.png\")"
   ]
  },
  {
   "cell_type": "markdown",
   "metadata": {},
   "source": [
    "There is a weak negative correlation beween latitide and windspeed in the northern hemisphere"
   ]
  },
  {
   "cell_type": "code",
   "execution_count": null,
   "metadata": {},
   "outputs": [],
   "source": []
  }
 ],
 "metadata": {
  "anaconda-cloud": {},
  "kernel_info": {
   "name": "python3"
  },
  "kernelspec": {
   "display_name": "Python 3",
   "language": "python",
   "name": "python3"
  },
  "language_info": {
   "codemirror_mode": {
    "name": "ipython",
    "version": 3
   },
   "file_extension": ".py",
   "mimetype": "text/x-python",
   "name": "python",
   "nbconvert_exporter": "python",
   "pygments_lexer": "ipython3",
   "version": "3.8.5"
  },
  "latex_envs": {
   "LaTeX_envs_menu_present": true,
   "autoclose": false,
   "autocomplete": true,
   "bibliofile": "biblio.bib",
   "cite_by": "apalike",
   "current_citInitial": 1,
   "eqLabelWithNumbers": true,
   "eqNumInitial": 1,
   "hotkeys": {
    "equation": "Ctrl-E",
    "itemize": "Ctrl-I"
   },
   "labels_anchors": false,
   "latex_user_defs": false,
   "report_style_numbering": false,
   "user_envs_cfg": false
  },
  "nteract": {
   "version": "0.12.3"
  }
 },
 "nbformat": 4,
 "nbformat_minor": 4
}
